{
 "metadata": {
  "language_info": {
   "codemirror_mode": {
    "name": "ipython",
    "version": 3
   },
   "file_extension": ".py",
   "mimetype": "text/x-python",
   "name": "python",
   "nbconvert_exporter": "python",
   "pygments_lexer": "ipython3",
   "version": "3.9.1-final"
  },
  "orig_nbformat": 2,
  "kernelspec": {
   "name": "python3",
   "display_name": "Python 3.9.1 64-bit",
   "metadata": {
    "interpreter": {
     "hash": "fb0f224fa3012b638b0e411b794adc124f841435a61e2731d806758a96dbcbb7"
    }
   }
  }
 },
 "nbformat": 4,
 "nbformat_minor": 2,
 "cells": [
  {
   "source": [
    "The singley linked list is a generic data structure.  Many other data structures are based on the single linked list.\n",
    "\n",
    "Traversal of a linked list occurs by starting on the head node and then moving to the next node as long as the next node is not None."
   ],
   "cell_type": "markdown",
   "metadata": {}
  },
  {
   "source": [
    "ADT: \n",
    "\n",
    "```\n",
    "head() -> Node : The first node in the list.\n",
    "next() -> Node : The next node referenced from the current node.  Will be None if on last node.\n",
    "addNode() -> bool : Returns bool indicating success or failure. Node will be added to the front.\n",
    "```"
   ],
   "cell_type": "markdown",
   "metadata": {}
  },
  {
   "cell_type": "code",
   "execution_count": 6,
   "metadata": {},
   "outputs": [],
   "source": [
    "# Python definition\n",
    "import typing\n",
    "class Node(object):\n",
    "    def __init__(self, data: any, next = None):\n",
    "        self.data = data\n",
    "        self.next = None\n",
    "\n",
    "# Helper object which maintains references.\n",
    "class SinglyLinkedList(object):\n",
    "    def __init__(self, head: Node):\n",
    "        self.head = head\n",
    "\n"
   ]
  },
  {
   "cell_type": "code",
   "execution_count": 12,
   "metadata": {},
   "outputs": [],
   "source": [
    "# Usage\n",
    "n1 = Node(5)\n",
    "n2 = Node(6)\n",
    "n3 = Node(7)\n",
    "\n",
    "n1.next = n2\n",
    "n2.next = n3\n"
   ]
  },
  {
   "cell_type": "code",
   "execution_count": 11,
   "metadata": {},
   "outputs": [
    {
     "output_type": "stream",
     "name": "stdout",
     "text": [
      "None\n"
     ]
    }
   ],
   "source": []
  },
  {
   "cell_type": "code",
   "execution_count": null,
   "metadata": {},
   "outputs": [],
   "source": []
  }
 ]
}