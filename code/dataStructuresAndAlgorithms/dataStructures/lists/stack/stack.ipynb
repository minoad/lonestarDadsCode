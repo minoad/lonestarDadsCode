{
 "metadata": {
  "language_info": {
   "codemirror_mode": {
    "name": "ipython",
    "version": 3
   },
   "file_extension": ".py",
   "mimetype": "text/x-python",
   "name": "python",
   "nbconvert_exporter": "python",
   "pygments_lexer": "ipython3",
   "version": 3
  },
  "orig_nbformat": 2
 },
 "nbformat": 4,
 "nbformat_minor": 2,
 "cells": [
  {
   "source": [
    "The stack is a data structure which operates as a Last In, First Out structure.  Think of this like a stack of plates.  You contiue to place plates on the top of the stack.  When you need to get a plate later on, you take the one that was last placed in the stack from the top."
   ],
   "cell_type": "markdown",
   "metadata": {}
  },
  {
   "source": [
    "AD"
   ],
   "cell_type": "markdown",
   "metadata": {}
  }
 ]
}